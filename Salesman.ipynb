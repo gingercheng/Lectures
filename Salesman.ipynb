{
 "cells": [
  {
   "cell_type": "markdown",
   "metadata": {},
   "source": [
    "The code should be on GitHub soon"
   ]
  },
  {
   "cell_type": "code",
   "execution_count": null,
   "metadata": {},
   "outputs": [],
   "source": [
    "import numpy as np\n",
    "import matplotlib.pyplot as plt\n",
    "from random import random, randrange\n",
    "from numba import jit\n",
    "from copy import deepcopy\n"
   ]
  },
  {
   "cell_type": "code",
   "execution_count": null,
   "metadata": {},
   "outputs": [],
   "source": [
    "\"\"\" Solve the traveling salesman problem using a simulated\"\"\"\n",
    "\n",
    "\n",
    "def \n",
    "\n",
    "def MC_steps():\n",
    "    \"\"\"\n",
    "    Metropolis algorith for Monte Carlo steps\n",
    "    \"\"\"\n",
    "    \n",
    "    D = distance(r,N)\n",
    "    randomArray = np.random.random(N)\n",
    "    \n",
    "    for k in range(1):\n",
    "        i,j = randrange(1,N), randrange(1,N)\n",
    "        while i == j:\n",
    "            i,j = randrange(1,N), randrange(1,N)\n",
    "            \n",
    "            oldD = D\n",
    "            \n",
    "            #swap position\n",
    "            r[i,0], r[j,0] = r[j,0], r[i,0]\n",
    "            r[i,1], r[j,1] = r[j,1], r[i,1]\n",
    "            D = distance(r,N)\n",
    "            \n",
    "            deltaD = D - oldD\n",
    "\n",
    "#.......\n",
    "\n",
    "\n"
   ]
  }
 ],
 "metadata": {
  "kernelspec": {
   "display_name": "Python 3",
   "language": "python",
   "name": "python3"
  },
  "language_info": {
   "codemirror_mode": {
    "name": "ipython",
    "version": 3
   },
   "file_extension": ".py",
   "mimetype": "text/x-python",
   "name": "python",
   "nbconvert_exporter": "python",
   "pygments_lexer": "ipython3",
   "version": "3.6.7"
  }
 },
 "nbformat": 4,
 "nbformat_minor": 2
}
